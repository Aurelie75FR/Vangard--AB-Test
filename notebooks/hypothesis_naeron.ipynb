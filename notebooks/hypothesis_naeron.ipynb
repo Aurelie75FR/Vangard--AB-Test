{
 "cells": [
  {
   "cell_type": "code",
   "execution_count": 1,
   "metadata": {},
   "outputs": [],
   "source": [
    "import pandas as pd\n",
    "import matplotlib.pyplot as plt\n",
    "import scipy.stats as st\n",
    "import numpy as np\n",
    "from statsmodels.stats.proportion import proportions_ztest"
   ]
  },
  {
   "cell_type": "code",
   "execution_count": 2,
   "metadata": {},
   "outputs": [],
   "source": [
    "file = r\"..\\data\\clean\\complete_clean.csv\"\n",
    "file_test = r\"..\\data\\clean\\test_group_clean.csv\"\n",
    "file_control = r\"..\\data\\clean\\control_group_clean.csv\"\n",
    "\n",
    "df_all = pd.read_csv(file)\n",
    "df_test = pd.read_csv(file_test)\n",
    "df_control =  pd.read_csv(file_control)\n",
    "df_demo = pd.read_csv('../data/clean/final_demo_clean.csv')"
   ]
  },
  {
   "cell_type": "code",
   "execution_count": 3,
   "metadata": {},
   "outputs": [
    {
     "name": "stdout",
     "output_type": "stream",
     "text": [
      "47608\n",
      "56474\n",
      "Control : [100.0, 62.31725760376408, 54.3732145857839, 47.88060830112586, 36.76903041505629]\n",
      "Test : [100.0, 68.64751921238091, 54.87303892056522, 45.851188157382154, 45.54662322484683]\n"
     ]
    }
   ],
   "source": [
    "#cross tab des variations par step \n",
    "\n",
    "crosstab_all = pd.crosstab(df_all[\"process_step\"], df_all[\"variation\"])\n",
    "\n",
    "#percentage per step -> Completion Rate\n",
    "control_counts = crosstab_all['control']\n",
    "test_counts = crosstab_all['test']\n",
    "\n",
    "control_start = control_counts.iloc[0]\n",
    "test_start = test_counts.iloc[0]\n",
    "\n",
    "print(control_start)\n",
    "print(test_start)\n",
    "\n",
    "control_percentages = [count / control_start * 100 for count in control_counts]\n",
    "test_percentages = [count / test_start * 100 for count in test_counts]\n",
    "\n",
    "print(\"Control :\", control_percentages)\n",
    "print(\"Test :\", test_percentages)"
   ]
  },
  {
   "cell_type": "markdown",
   "metadata": {},
   "source": [
    "## Taux de complétion\n",
    "\n",
    "Hypothèse : Comparer le taux de complétion entre le groupe Test (nouveau design) et le groupe Contrôle (ancien design).\n",
    "\n",
    "Objectif : Vérifier si la différence est statistiquement significative.\n",
    "\n",
    "Actions : Définir les hypothèses nulle et alternative, tester avec le niveau de signification approprié, analyser le p-value et d'autres mesures statistiques."
   ]
  },
  {
   "cell_type": "markdown",
   "metadata": {},
   "source": [
    "Hypothèse nulle (H0) : Il y a une différence significative dans le taux de complétion entre le groupe Test (nouveau design) et le groupe Contrôle (ancien design).\n",
    "\n",
    "Hypothèse alternative (H1) : Il n'y a pas de différence significative dans le taux de complétion entre le groupe Test (nouveau design) et le groupe Contrôle (ancien design)."
   ]
  },
  {
   "cell_type": "code",
   "execution_count": 4,
   "metadata": {},
   "outputs": [
    {
     "name": "stdout",
     "output_type": "stream",
     "text": [
      "z-statistic: 28.628711797088698\n",
      "p-value: 1.4757732634476226e-180\n",
      "Reject the null hypothesis: The test group has a significantly higher completion rate than the control group.\n"
     ]
    }
   ],
   "source": [
    "# Example data\n",
    "n_test = test_start  # Sample size for the test group\n",
    "n_control = control_start  # Sample size for the control group\n",
    "\n",
    "# Completion rates\n",
    "completion_rate_test = test_percentages[-1] / 100\n",
    "completion_rate_control = control_percentages[-1] / 100\n",
    "\n",
    "# Number of successes (completions)\n",
    "successes_test = n_test * completion_rate_test\n",
    "successes_control = n_control * completion_rate_control\n",
    "\n",
    "# Perform the z-test for proportions\n",
    "count = [successes_test, successes_control]\n",
    "nobs = [n_test, n_control]\n",
    "\n",
    "stat, p_value = proportions_ztest(count, nobs, alternative='larger')\n",
    "\n",
    "# Print results\n",
    "print(f\"z-statistic: {stat}\")\n",
    "print(f\"p-value: {p_value}\")\n",
    "\n",
    "# Interpretation of p-value\n",
    "if p_value < 0.05:\n",
    "    print(\"Reject the null hypothesis: The test group has a significantly higher completion rate than the control group.\")\n",
    "else:\n",
    "    print(\"Fail to reject the null hypothesis: No significant difference in completion rates.\")\n"
   ]
  },
  {
   "cell_type": "markdown",
   "metadata": {},
   "source": [
    "## Temps de complétion \n",
    "\n",
    "Vérifier si le groupe de test prend en moyenne moins de temps à compléter le processus que le groupe de control "
   ]
  },
  {
   "cell_type": "code",
   "execution_count": 6,
   "metadata": {},
   "outputs": [],
   "source": [
    "from datetime import time, timedelta \n",
    "untouched_df_all = df_all.copy()\n",
    "df_all[df_all['process_step'] == 'start'] = df_all[df_all['process_step'] == 'start'].drop_duplicates(subset=['client_id', 'visit_id', 'process_step'], keep='last')\n",
    "df_all[df_all['process_step'] == 'step_1'] = df_all[df_all['process_step'] == 'step_1'].drop_duplicates(subset=['client_id', 'visit_id', 'process_step'], keep='last')\n",
    "df_all[df_all['process_step'] == 'step_2'] = df_all[df_all['process_step'] == 'step_2'].drop_duplicates(subset=['client_id', 'visit_id', 'process_step'], keep='last')\n",
    "df_all[df_all['process_step'] == 'step_3'] = df_all[df_all['process_step'] == 'step_3'].drop_duplicates(subset=['client_id', 'visit_id', 'process_step'], keep='last')\n",
    "df_all[df_all['process_step'] == 'validate'] = df_all[df_all['process_step'] == 'validate'].drop_duplicates(subset=['client_id', 'visit_id', 'process_step'], keep='last')\n",
    "df_all = df_all.reset_index(drop=True)\n",
    "df_all['date_time'] = pd.to_datetime(df_all['date_time'], format=\"ISO8601\")\n",
    "df_all = df_all.sort_values(by=['client_id', 'visit_id', 'process_step', 'date_time'])\n",
    "\n",
    "\n",
    "for i in range(1, df_all.shape[0]):\n",
    "    if df_all.loc[i-1, 'visit_id'] == df_all.loc[i, 'visit_id']:\n",
    "        df_all.loc[i, 'time_delta'] = df_all.loc[i, 'date_time'] - df_all.loc[i-1, 'date_time']\n",
    "    else:\n",
    "        df_all.loc[i, 'time_delta'] = None\n",
    "\n",
    "#df_all = df_all[df_all['time_diff'].notnull()]\n",
    "\n",
    "df_all = df_all.reset_index(drop=True)\n",
    "\n",
    "# df_all['date_time'] = pd.to_datetime(df_all['date'] + ' ' + df_all['time'])\n",
    "\n",
    "# df_all['time_diff_seconds'] = df_all['time_diff'].dt.total_seconds()\n",
    "# df_all['time_diff_seconds'].describe()"
   ]
  },
  {
   "cell_type": "code",
   "execution_count": 50,
   "metadata": {},
   "outputs": [],
   "source": [
    "test_group = df_all[df_all['variation'] == 'test']\n",
    "control_group = df_all[df_all['variation'] == 'control']"
   ]
  },
  {
   "cell_type": "code",
   "execution_count": 22,
   "metadata": {},
   "outputs": [
    {
     "data": {
      "text/html": [
       "<div>\n",
       "<style scoped>\n",
       "    .dataframe tbody tr th:only-of-type {\n",
       "        vertical-align: middle;\n",
       "    }\n",
       "\n",
       "    .dataframe tbody tr th {\n",
       "        vertical-align: top;\n",
       "    }\n",
       "\n",
       "    .dataframe thead th {\n",
       "        text-align: right;\n",
       "    }\n",
       "</style>\n",
       "<table border=\"1\" class=\"dataframe\">\n",
       "  <thead>\n",
       "    <tr style=\"text-align: right;\">\n",
       "      <th></th>\n",
       "      <th>client_id</th>\n",
       "      <th>visitor_id</th>\n",
       "      <th>visit_id</th>\n",
       "      <th>process_step</th>\n",
       "      <th>date_time</th>\n",
       "      <th>date</th>\n",
       "      <th>time</th>\n",
       "      <th>variation</th>\n",
       "      <th>time_delta</th>\n",
       "    </tr>\n",
       "  </thead>\n",
       "  <tbody>\n",
       "    <tr>\n",
       "      <th>0</th>\n",
       "      <td>555.0</td>\n",
       "      <td>402506806_56087378777</td>\n",
       "      <td>637149525_38041617439_716659</td>\n",
       "      <td>start</td>\n",
       "      <td>2017-04-15 12:57:56</td>\n",
       "      <td>2017-04-15</td>\n",
       "      <td>12:57:56</td>\n",
       "      <td>test</td>\n",
       "      <td>NaT</td>\n",
       "    </tr>\n",
       "    <tr>\n",
       "      <th>1</th>\n",
       "      <td>555.0</td>\n",
       "      <td>402506806_56087378777</td>\n",
       "      <td>637149525_38041617439_716659</td>\n",
       "      <td>step_1</td>\n",
       "      <td>2017-04-15 12:58:03</td>\n",
       "      <td>2017-04-15</td>\n",
       "      <td>12:58:03</td>\n",
       "      <td>test</td>\n",
       "      <td>0 days 00:00:07</td>\n",
       "    </tr>\n",
       "    <tr>\n",
       "      <th>2</th>\n",
       "      <td>555.0</td>\n",
       "      <td>402506806_56087378777</td>\n",
       "      <td>637149525_38041617439_716659</td>\n",
       "      <td>step_2</td>\n",
       "      <td>2017-04-15 12:58:35</td>\n",
       "      <td>2017-04-15</td>\n",
       "      <td>12:58:35</td>\n",
       "      <td>test</td>\n",
       "      <td>0 days 00:00:32</td>\n",
       "    </tr>\n",
       "    <tr>\n",
       "      <th>3</th>\n",
       "      <td>555.0</td>\n",
       "      <td>402506806_56087378777</td>\n",
       "      <td>637149525_38041617439_716659</td>\n",
       "      <td>step_3</td>\n",
       "      <td>2017-04-15 13:00:14</td>\n",
       "      <td>2017-04-15</td>\n",
       "      <td>13:00:14</td>\n",
       "      <td>test</td>\n",
       "      <td>0 days 00:01:39</td>\n",
       "    </tr>\n",
       "    <tr>\n",
       "      <th>4</th>\n",
       "      <td>555.0</td>\n",
       "      <td>402506806_56087378777</td>\n",
       "      <td>637149525_38041617439_716659</td>\n",
       "      <td>validate</td>\n",
       "      <td>2017-04-15 13:00:34</td>\n",
       "      <td>2017-04-15</td>\n",
       "      <td>13:00:34</td>\n",
       "      <td>test</td>\n",
       "      <td>0 days 00:00:20</td>\n",
       "    </tr>\n",
       "  </tbody>\n",
       "</table>\n",
       "</div>"
      ],
      "text/plain": [
       "   client_id             visitor_id                      visit_id  \\\n",
       "0      555.0  402506806_56087378777  637149525_38041617439_716659   \n",
       "1      555.0  402506806_56087378777  637149525_38041617439_716659   \n",
       "2      555.0  402506806_56087378777  637149525_38041617439_716659   \n",
       "3      555.0  402506806_56087378777  637149525_38041617439_716659   \n",
       "4      555.0  402506806_56087378777  637149525_38041617439_716659   \n",
       "\n",
       "  process_step           date_time        date      time variation  \\\n",
       "0        start 2017-04-15 12:57:56  2017-04-15  12:57:56      test   \n",
       "1       step_1 2017-04-15 12:58:03  2017-04-15  12:58:03      test   \n",
       "2       step_2 2017-04-15 12:58:35  2017-04-15  12:58:35      test   \n",
       "3       step_3 2017-04-15 13:00:14  2017-04-15  13:00:14      test   \n",
       "4     validate 2017-04-15 13:00:34  2017-04-15  13:00:34      test   \n",
       "\n",
       "       time_delta  \n",
       "0             NaT  \n",
       "1 0 days 00:00:07  \n",
       "2 0 days 00:00:32  \n",
       "3 0 days 00:01:39  \n",
       "4 0 days 00:00:20  "
      ]
     },
     "execution_count": 22,
     "metadata": {},
     "output_type": "execute_result"
    }
   ],
   "source": [
    "test_group.head()"
   ]
  },
  {
   "cell_type": "code",
   "execution_count": 51,
   "metadata": {},
   "outputs": [],
   "source": [
    "test_group = test_group.drop(columns=['client_id', 'visitor_id', 'visit_id', 'variation', 'date_time', 'date', 'time'])\n",
    "test_group['time_delta'] = test_group['time_delta'].dt.total_seconds()"
   ]
  },
  {
   "cell_type": "code",
   "execution_count": 52,
   "metadata": {},
   "outputs": [],
   "source": [
    "control_group = control_group.drop(columns=['client_id', 'visitor_id', 'visit_id', 'variation', 'date_time', 'date', 'time'])\n",
    "control_group['time_delta'] = control_group['time_delta'].dt.total_seconds()"
   ]
  },
  {
   "cell_type": "code",
   "execution_count": 58,
   "metadata": {},
   "outputs": [
    {
     "data": {
      "text/html": [
       "<div>\n",
       "<style scoped>\n",
       "    .dataframe tbody tr th:only-of-type {\n",
       "        vertical-align: middle;\n",
       "    }\n",
       "\n",
       "    .dataframe tbody tr th {\n",
       "        vertical-align: top;\n",
       "    }\n",
       "\n",
       "    .dataframe thead th {\n",
       "        text-align: right;\n",
       "    }\n",
       "</style>\n",
       "<table border=\"1\" class=\"dataframe\">\n",
       "  <thead>\n",
       "    <tr style=\"text-align: right;\">\n",
       "      <th></th>\n",
       "      <th>time_delta</th>\n",
       "    </tr>\n",
       "    <tr>\n",
       "      <th>process_step</th>\n",
       "      <th></th>\n",
       "    </tr>\n",
       "  </thead>\n",
       "  <tbody>\n",
       "    <tr>\n",
       "      <th>start</th>\n",
       "      <td>NaN</td>\n",
       "    </tr>\n",
       "    <tr>\n",
       "      <th>step_1</th>\n",
       "      <td>3.526475</td>\n",
       "    </tr>\n",
       "    <tr>\n",
       "      <th>step_2</th>\n",
       "      <td>37.325393</td>\n",
       "    </tr>\n",
       "    <tr>\n",
       "      <th>step_3</th>\n",
       "      <td>92.851024</td>\n",
       "    </tr>\n",
       "    <tr>\n",
       "      <th>validate</th>\n",
       "      <td>143.254736</td>\n",
       "    </tr>\n",
       "  </tbody>\n",
       "</table>\n",
       "</div>"
      ],
      "text/plain": [
       "              time_delta\n",
       "process_step            \n",
       "start                NaN\n",
       "step_1          3.526475\n",
       "step_2         37.325393\n",
       "step_3         92.851024\n",
       "validate      143.254736"
      ]
     },
     "execution_count": 58,
     "metadata": {},
     "output_type": "execute_result"
    }
   ],
   "source": [
    "test_group.groupby(by='process_step').mean()"
   ]
  },
  {
   "cell_type": "code",
   "execution_count": 31,
   "metadata": {},
   "outputs": [
    {
     "data": {
      "text/html": [
       "<div>\n",
       "<style scoped>\n",
       "    .dataframe tbody tr th:only-of-type {\n",
       "        vertical-align: middle;\n",
       "    }\n",
       "\n",
       "    .dataframe tbody tr th {\n",
       "        vertical-align: top;\n",
       "    }\n",
       "\n",
       "    .dataframe thead th {\n",
       "        text-align: right;\n",
       "    }\n",
       "</style>\n",
       "<table border=\"1\" class=\"dataframe\">\n",
       "  <thead>\n",
       "    <tr style=\"text-align: right;\">\n",
       "      <th></th>\n",
       "      <th>time_delta</th>\n",
       "    </tr>\n",
       "    <tr>\n",
       "      <th>process_step</th>\n",
       "      <th></th>\n",
       "    </tr>\n",
       "  </thead>\n",
       "  <tbody>\n",
       "    <tr>\n",
       "      <th>start</th>\n",
       "      <td>NaN</td>\n",
       "    </tr>\n",
       "    <tr>\n",
       "      <th>step_1</th>\n",
       "      <td>18.491384</td>\n",
       "    </tr>\n",
       "    <tr>\n",
       "      <th>step_2</th>\n",
       "      <td>34.409333</td>\n",
       "    </tr>\n",
       "    <tr>\n",
       "      <th>step_3</th>\n",
       "      <td>95.511871</td>\n",
       "    </tr>\n",
       "    <tr>\n",
       "      <th>validate</th>\n",
       "      <td>136.016508</td>\n",
       "    </tr>\n",
       "  </tbody>\n",
       "</table>\n",
       "</div>"
      ],
      "text/plain": [
       "              time_delta\n",
       "process_step            \n",
       "start                NaN\n",
       "step_1         18.491384\n",
       "step_2         34.409333\n",
       "step_3         95.511871\n",
       "validate      136.016508"
      ]
     },
     "execution_count": 31,
     "metadata": {},
     "output_type": "execute_result"
    }
   ],
   "source": [
    "control_group.groupby(by='process_step').mean()"
   ]
  },
  {
   "cell_type": "code",
   "execution_count": 60,
   "metadata": {},
   "outputs": [
    {
     "data": {
      "text/plain": [
       "(109172, 2)"
      ]
     },
     "execution_count": 60,
     "metadata": {},
     "output_type": "execute_result"
    }
   ],
   "source": [
    "control_group.shape"
   ]
  },
  {
   "cell_type": "code",
   "execution_count": 56,
   "metadata": {},
   "outputs": [
    {
     "data": {
      "text/plain": [
       "(130159, 2)"
      ]
     },
     "execution_count": 56,
     "metadata": {},
     "output_type": "execute_result"
    }
   ],
   "source": [
    "test_group.shape"
   ]
  },
  {
   "cell_type": "markdown",
   "metadata": {},
   "source": [
    "## Hypothesis \n",
    "H0 Mean time spent for step 1 for control group is greater or equal than time spent for test 1 for test group"
   ]
  },
  {
   "cell_type": "code",
   "execution_count": 62,
   "metadata": {},
   "outputs": [
    {
     "name": "stdout",
     "output_type": "stream",
     "text": [
      "T-statistic: [13.15910311]\n",
      "Degrees of freedom: [222003.28253803]\n",
      "P-value: [7.8052604e-40]\n",
      "Fail to reject the null hypothesis: There is insufficient evidence to conclude Process A mean is less than Process B.\n"
     ]
    },
    {
     "name": "stderr",
     "output_type": "stream",
     "text": [
      "C:\\Users\\VDaub\\AppData\\Local\\Temp\\ipykernel_8876\\2298139482.py:13: DeprecationWarning: Conversion of an array with ndim > 0 to a scalar is deprecated, and will error in future. Ensure you extract a single element from your array before performing this operation. (Deprecated NumPy 1.25.)\n",
      "  t_stat = (mean1 - mean2) / math.sqrt((std1**2 / n1) + (std2**2 / n2))\n"
     ]
    }
   ],
   "source": [
    "import math\n",
    "\n",
    "# Given summary statistics\n",
    "n1 = control_group.shape[0]  # Sample size for Process A\n",
    "mean1 = control_group.groupby(by='process_step').mean().values[1]  # Mean for Process A\n",
    "std1 = control_group.groupby(by='process_step').std().values[1]  # Standard deviation for Process A\n",
    "\n",
    "n2 = test_group.shape[0]  # Sample size for Process B\n",
    "mean2 = test_group.groupby(by='process_step').mean().values[1]  # Mean for Process B\n",
    "std2 = test_group.groupby(by='process_step').std().values[1]  # Standard deviation for Process B\n",
    "\n",
    "# Calculate the t-statistic\n",
    "t_stat = (mean1 - mean2) / math.sqrt((std1**2 / n1) + (std2**2 / n2))\n",
    "\n",
    "# Calculate the degrees of freedom (using the formula above)\n",
    "df = ((std1**2 / n1 + std2**2 / n2) ** 2) / ((std1**2 / n1) ** 2 / (n1 - 1) + (std2**2 / n2) ** 2 / (n2 - 1))\n",
    "\n",
    "# Calculate the p-value for a one-tailed test (right-tailed)\n",
    "p_value = st.t.sf(t_stat, df)  # One-tailed test, survival function (right tail)\n",
    "\n",
    "# Output results\n",
    "print(\"T-statistic:\", t_stat)\n",
    "print(\"Degrees of freedom:\", df)\n",
    "print(\"P-value:\", p_value)\n",
    "\n",
    "# Decision based on the p-value (assuming a 0.05 significance level)\n",
    "alpha = 0.05\n",
    "if p_value > alpha:\n",
    "    print(\"Reject the null hypothesis: Mean of Process A is significantly less than the mean of Process B.\")\n",
    "else:\n",
    "    print(\"Fail to reject the null hypothesis: There is insufficient evidence to conclude Process A mean is less than Process B.\")\n",
    "\n"
   ]
  },
  {
   "cell_type": "code",
   "execution_count": 63,
   "metadata": {},
   "outputs": [
    {
     "name": "stdout",
     "output_type": "stream",
     "text": [
      "T-statistic: [-3.77448937]\n",
      "Degrees of freedom: [236522.31077546]\n",
      "P-value: [0.99991981]\n",
      "Reject the null hypothesis: Mean of Process A is significantly less than the mean of Process B.\n"
     ]
    },
    {
     "name": "stderr",
     "output_type": "stream",
     "text": [
      "C:\\Users\\VDaub\\AppData\\Local\\Temp\\ipykernel_8876\\2692066906.py:11: DeprecationWarning: Conversion of an array with ndim > 0 to a scalar is deprecated, and will error in future. Ensure you extract a single element from your array before performing this operation. (Deprecated NumPy 1.25.)\n",
      "  t_stat = (mean1 - mean2) / math.sqrt((std1**2 / n1) + (std2**2 / n2))\n"
     ]
    }
   ],
   "source": [
    "# Given summary statistics\n",
    "n1 = control_group.shape[0]  # Sample size for Process A\n",
    "mean1 = control_group.groupby(by='process_step').mean().values[2]  # Mean for Process A\n",
    "std1 = control_group.groupby(by='process_step').std().values[2]  # Standard deviation for Process A\n",
    "\n",
    "n2 = test_group.shape[0]  # Sample size for Process B\n",
    "mean2 = test_group.groupby(by='process_step').mean().values[2]  # Mean for Process B\n",
    "std2 = test_group.groupby(by='process_step').std().values[2]  # Standard deviation for Process B\n",
    "\n",
    "# Calculate the t-statistic\n",
    "t_stat = (mean1 - mean2) / math.sqrt((std1**2 / n1) + (std2**2 / n2))\n",
    "\n",
    "# Calculate the degrees of freedom (using the formula above)\n",
    "df = ((std1**2 / n1 + std2**2 / n2) ** 2) / ((std1**2 / n1) ** 2 / (n1 - 1) + (std2**2 / n2) ** 2 / (n2 - 1))\n",
    "\n",
    "# Calculate the p-value for a one-tailed test (right-tailed)\n",
    "p_value = st.t.sf(t_stat, df)  # One-tailed test, survival function (right tail)\n",
    "\n",
    "# Output results\n",
    "print(\"T-statistic:\", t_stat)\n",
    "print(\"Degrees of freedom:\", df)\n",
    "print(\"P-value:\", p_value)\n",
    "\n",
    "# Decision based on the p-value (assuming a 0.05 significance level)\n",
    "alpha = 0.05\n",
    "if p_value > alpha:\n",
    "    print(\"Reject the null hypothesis: Mean of Process A is significantly less than the mean of Process B.\")\n",
    "else:\n",
    "    print(\"Fail to reject the null hypothesis: There is insufficient evidence to conclude Process A mean is less than Process B.\")\n"
   ]
  },
  {
   "cell_type": "code",
   "execution_count": 64,
   "metadata": {},
   "outputs": [
    {
     "name": "stdout",
     "output_type": "stream",
     "text": [
      "T-statistic: [3.52570342]\n",
      "Degrees of freedom: [232853.64649453]\n",
      "P-value: [0.00021122]\n",
      "Fail to reject the null hypothesis: There is insufficient evidence to conclude Process A mean is less than Process B.\n"
     ]
    },
    {
     "name": "stderr",
     "output_type": "stream",
     "text": [
      "C:\\Users\\VDaub\\AppData\\Local\\Temp\\ipykernel_8876\\2226667753.py:11: DeprecationWarning: Conversion of an array with ndim > 0 to a scalar is deprecated, and will error in future. Ensure you extract a single element from your array before performing this operation. (Deprecated NumPy 1.25.)\n",
      "  t_stat = (mean1 - mean2) / math.sqrt((std1**2 / n1) + (std2**2 / n2))\n"
     ]
    }
   ],
   "source": [
    "# Given summary statistics\n",
    "n1 = control_group.shape[0]  # Sample size for Process A\n",
    "mean1 = control_group.groupby(by='process_step').mean().values[3]  # Mean for Process A\n",
    "std1 = control_group.groupby(by='process_step').std().values[3]  # Standard deviation for Process A\n",
    "\n",
    "n2 = test_group.shape[0]  # Sample size for Process B\n",
    "mean2 = test_group.groupby(by='process_step').mean().values[3]  # Mean for Process B\n",
    "std2 = test_group.groupby(by='process_step').std().values[3]  # Standard deviation for Process B\n",
    "\n",
    "# Calculate the t-statistic\n",
    "t_stat = (mean1 - mean2) / math.sqrt((std1**2 / n1) + (std2**2 / n2))\n",
    "\n",
    "# Calculate the degrees of freedom (using the formula above)\n",
    "df = ((std1**2 / n1 + std2**2 / n2) ** 2) / ((std1**2 / n1) ** 2 / (n1 - 1) + (std2**2 / n2) ** 2 / (n2 - 1))\n",
    "\n",
    "# Calculate the p-value for a one-tailed test (right-tailed)\n",
    "p_value = st.t.sf(t_stat, df)  # One-tailed test, survival function (right tail)\n",
    "\n",
    "# Output results\n",
    "print(\"T-statistic:\", t_stat)\n",
    "print(\"Degrees of freedom:\", df)\n",
    "print(\"P-value:\", p_value)\n",
    "\n",
    "# Decision based on the p-value (assuming a 0.05 significance level)\n",
    "alpha = 0.05\n",
    "if p_value > alpha:\n",
    "    print(\"Reject the null hypothesis: Mean of Process A is significantly less than the mean of Process B.\")\n",
    "else:\n",
    "    print(\"Fail to reject the null hypothesis: There is insufficient evidence to conclude Process A mean is less than Process B.\")\n"
   ]
  },
  {
   "cell_type": "code",
   "execution_count": 65,
   "metadata": {},
   "outputs": [
    {
     "name": "stdout",
     "output_type": "stream",
     "text": [
      "T-statistic: [-6.03532505]\n",
      "Degrees of freedom: [221322.4774546]\n",
      "P-value: [1.]\n",
      "Reject the null hypothesis: Mean of Process A is significantly less than the mean of Process B.\n"
     ]
    },
    {
     "name": "stderr",
     "output_type": "stream",
     "text": [
      "C:\\Users\\VDaub\\AppData\\Local\\Temp\\ipykernel_8876\\2603774674.py:11: DeprecationWarning: Conversion of an array with ndim > 0 to a scalar is deprecated, and will error in future. Ensure you extract a single element from your array before performing this operation. (Deprecated NumPy 1.25.)\n",
      "  t_stat = (mean1 - mean2) / math.sqrt((std1**2 / n1) + (std2**2 / n2))\n"
     ]
    }
   ],
   "source": [
    "# Given summary statistics\n",
    "n1 = control_group.shape[0]  # Sample size for Process A\n",
    "mean1 = control_group.groupby(by='process_step').mean().values[4]  # Mean for Process A\n",
    "std1 = control_group.groupby(by='process_step').std().values[4]  # Standard deviation for Process A\n",
    "\n",
    "n2 = test_group.shape[0]  # Sample size for Process B\n",
    "mean2 = test_group.groupby(by='process_step').mean().values[4]  # Mean for Process B\n",
    "std2 = test_group.groupby(by='process_step').std().values[4]  # Standard deviation for Process B\n",
    "\n",
    "# Calculate the t-statistic\n",
    "t_stat = (mean1 - mean2) / math.sqrt((std1**2 / n1) + (std2**2 / n2))\n",
    "\n",
    "# Calculate the degrees of freedom (using the formula above)\n",
    "df = ((std1**2 / n1 + std2**2 / n2) ** 2) / ((std1**2 / n1) ** 2 / (n1 - 1) + (std2**2 / n2) ** 2 / (n2 - 1))\n",
    "\n",
    "# Calculate the p-value for a one-tailed test (right-tailed)\n",
    "p_value = st.t.sf(t_stat, df)  # One-tailed test, survival function (right tail)\n",
    "\n",
    "# Output results\n",
    "print(\"T-statistic:\", t_stat)\n",
    "print(\"Degrees of freedom:\", df)\n",
    "print(\"P-value:\", p_value)\n",
    "\n",
    "# Decision based on the p-value (assuming a 0.05 significance level)\n",
    "alpha = 0.05\n",
    "if p_value > alpha:\n",
    "    print(\"Reject the null hypothesis: Mean of Process A is significantly less than the mean of Process B.\")\n",
    "else:\n",
    "    print(\"Fail to reject the null hypothesis: There is insufficient evidence to conclude Process A mean is less than Process B.\")\n"
   ]
  }
 ],
 "metadata": {
  "kernelspec": {
   "display_name": "base",
   "language": "python",
   "name": "python3"
  },
  "language_info": {
   "codemirror_mode": {
    "name": "ipython",
    "version": 3
   },
   "file_extension": ".py",
   "mimetype": "text/x-python",
   "name": "python",
   "nbconvert_exporter": "python",
   "pygments_lexer": "ipython3",
   "version": "3.12.4"
  }
 },
 "nbformat": 4,
 "nbformat_minor": 2
}
