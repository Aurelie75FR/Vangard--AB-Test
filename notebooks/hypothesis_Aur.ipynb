{
 "cells": [
  {
   "cell_type": "code",
   "execution_count": 14,
   "metadata": {},
   "outputs": [],
   "source": [
    "import pandas as pd\n",
    "import numpy as np\n",
    "import matplotlib.pyplot as plt\n",
    "import scipy.stats as st\n",
    "import math\n",
    "from scipy.stats import norm"
   ]
  },
  {
   "cell_type": "markdown",
   "metadata": {},
   "source": [
    "## Taux de complétion\n",
    "\n",
    "Hypothèse : Comparer le taux de complétion entre le groupe Test (nouveau design) et le groupe Contrôle (ancien design).\n",
    "\n",
    "Objectif : Vérifier si la différence est statistiquement significative.\n",
    "\n",
    "Actions : Définir les hypothèses nulle et alternative, tester avec le niveau de signification approprié, analyser le p-value et d'autres mesures statistiques."
   ]
  },
  {
   "cell_type": "markdown",
   "metadata": {},
   "source": [
    "Hypothèse nulle (H0) : Il y a une différence significative dans le taux de complétion entre le groupe Test (nouveau design) et le groupe Contrôle (ancien design).\n",
    "\n",
    "Hypothèse alternative (H1) : Il n'y a pas de différence significative dans le taux de complétion entre le groupe Test (nouveau design) et le groupe Contrôle (ancien design)."
   ]
  },
  {
   "cell_type": "code",
   "execution_count": 13,
   "metadata": {},
   "outputs": [
    {
     "name": "stdout",
     "output_type": "stream",
     "text": [
      "control : 5554, test : 8406\n",
      "result stats : -16.94, result p_val :  0.00 \n",
      "H0 rejected : The completion rates between the Control and Test groups are different\n"
     ]
    }
   ],
   "source": [
    "alpha = 0.05\n",
    "\n",
    "control_completion_rate = 0.36  # 36%\n",
    "test_completion_rate = 0.45  # 45%\n",
    "control_sample_size = 15428  \n",
    "test_sample_size = 18682  \n",
    "\n",
    "control_completions = int(control_completion_rate * control_sample_size)\n",
    "test_completions = int(test_completion_rate * test_sample_size)\n",
    "print(f\"control : {control_completions}, test : {test_completions}\")\n",
    "\n",
    "control_failures = control_sample_size - control_completions\n",
    "test_failures = test_sample_size - test_completions\n",
    "\n",
    "\n",
    "control_data = [1] * control_completions + [0] * control_failures\n",
    "test_data = [1] * test_completions + [0] * test_failures\n",
    "\n",
    "\n",
    "t_stat, p_value_ttest = st.ttest_ind(control_data, test_data, equal_var=False)\n",
    "\n",
    "t_stat, p_value_ttest\n",
    "\n",
    "print(f\"result stats : {t_stat: .2f}, result p_val : {p_value_ttest: .2f} \")\n",
    "\n",
    "if p_value_ttest < alpha:\n",
    "    print(\"H0 rejected : The completion rates between the Control and Test groups are different\")\n",
    "else:\n",
    "    print(\"H1 rejected : There is no difference in the completion rates between the Control and Test groups\")"
   ]
  },
  {
   "cell_type": "markdown",
   "metadata": {},
   "source": [
    "## Taux de complétion avec seuil de rentabilité\n",
    "\n",
    "Hypothèse : Le nouveau design doit augmenter le taux de complétion d'au moins 5% pour être rentable.\n",
    "\n",
    "Objectif : Confirmer que l'amélioration observée atteint ou dépasse ce seuil.\n",
    "\n",
    "Actions : Effectuer une analyse pour vérifier si l'augmentation est suffisamment importante pour justifier les coûts."
   ]
  },
  {
   "cell_type": "markdown",
   "metadata": {},
   "source": [
    "Hypothèse nulle (H0) : L'augmentation du taux de complétion du groupe Test (nouveau design) est inférieure à 5% par rapport au groupe Contrôle (ancien design).\n",
    "\n",
    "Hypothèse alternative (H1) : L'augmentation du taux de complétion du groupe Test (nouveau design) est égale ou supérieure à 5% par rapport au groupe Contrôle (ancien design)."
   ]
  },
  {
   "cell_type": "code",
   "execution_count": 16,
   "metadata": {},
   "outputs": [
    {
     "name": "stdout",
     "output_type": "stream",
     "text": [
      "The improvement in the Test group's completion rate is 5% or more.\n"
     ]
    }
   ],
   "source": [
    "threshold_increase = 0.05  # 5% improvement\n",
    "observed_increase = test_completion_rate - control_completion_rate\n",
    "\n",
    "\n",
    "se_diff = math.sqrt(\n",
    "    (control_completion_rate * (1 - control_completion_rate)) / control_sample_size +\n",
    "    (test_completion_rate * (1 - test_completion_rate)) / test_sample_size\n",
    ")\n",
    "z_stat_threshold = (observed_increase - threshold_increase) / se_diff\n",
    "\n",
    "p_value_threshold = 1 - norm.cdf(z_stat_threshold)\n",
    "\n",
    "z_stat_threshold, p_value_threshold\n",
    "\n",
    "if p_value_threshold > threshold_increase:\n",
    "    print(\"The improvement in the Test group's completion rate is less than 5%.\")\n",
    "else:\n",
    "    print(f\"The improvement in the Test group's completion rate is 5% or more.\")\n"
   ]
  },
  {
   "cell_type": "markdown",
   "metadata": {},
   "source": [
    "## Autres exemples d'hypothèses\n",
    "\n",
    "Comparer l'âge moyen des clients utilisant le nouveau et l'ancien processus.\n",
    "\n",
    "Comparer la durée d'ancienneté des clients utilisant le nouveau et l'ancien processus.\n",
    "\n",
    "Analyser les différences de genre dans l'engagement avec le nouveau ou l'ancien processus."
   ]
  },
  {
   "cell_type": "markdown",
   "metadata": {},
   "source": [
    "Hypothèse nulle (H0) : L'âge moyen des clients utilisant le nouveau processus est le même que celui des clients utilisant l'ancien processus.\n",
    "\n",
    "Hypothèse alternative (H1) : L'âge moyen des clients utilisant le nouveau processus est différent de celui des clients utilisant l'ancien processus."
   ]
  },
  {
   "cell_type": "markdown",
   "metadata": {},
   "source": [
    "Hypothèse nulle (H0) : L'ancienneté moyenne des clients utilisant le nouveau processus est la même que celle des clients utilisant l'ancien processus.\n",
    "\n",
    "Hypothèse alternative (H1) : L'ancienneté moyenne des clients utilisant le nouveau processus est différente de celle des clients utilisant l'ancien processus."
   ]
  },
  {
   "cell_type": "markdown",
   "metadata": {},
   "source": [
    "Hypothèse nulle (H0) : Il n'y a pas de différence dans l'engagement avec le nouveau processus entre les genres.\n",
    "\n",
    "Hypothèse alternative (H1) : Il y a une différence dans l'engagement avec le nouveau processus entre les genres."
   ]
  },
  {
   "cell_type": "code",
   "execution_count": null,
   "metadata": {},
   "outputs": [],
   "source": []
  }
 ],
 "metadata": {
  "kernelspec": {
   "display_name": "base",
   "language": "python",
   "name": "python3"
  },
  "language_info": {
   "codemirror_mode": {
    "name": "ipython",
    "version": 3
   },
   "file_extension": ".py",
   "mimetype": "text/x-python",
   "name": "python",
   "nbconvert_exporter": "python",
   "pygments_lexer": "ipython3",
   "version": "3.12.4"
  }
 },
 "nbformat": 4,
 "nbformat_minor": 2
}
